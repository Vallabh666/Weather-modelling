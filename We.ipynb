{
  "nbformat": 4,
  "nbformat_minor": 0,
  "metadata": {
    "colab": {
      "provenance": [],
      "authorship_tag": "ABX9TyPzPS4F+EMRzImpX75uTB9K",
      "include_colab_link": true
    },
    "kernelspec": {
      "name": "python3",
      "display_name": "Python 3"
    },
    "language_info": {
      "name": "python"
    }
  },
  "cells": [
    {
      "cell_type": "markdown",
      "metadata": {
        "id": "view-in-github",
        "colab_type": "text"
      },
      "source": [
        "<a href=\"https://colab.research.google.com/github/Vallabh666/Weather-modelling/blob/main/We.ipynb\" target=\"_parent\"><img src=\"https://colab.research.google.com/assets/colab-badge.svg\" alt=\"Open In Colab\"/></a>"
      ]
    },
    {
      "cell_type": "code",
      "execution_count": 5,
      "metadata": {
        "colab": {
          "base_uri": "https://localhost:8080/"
        },
        "id": "Oi1tFqIh1Edj",
        "outputId": "39862667-3b73-42d8-a785-b86bf13ec02d"
      },
      "outputs": [
        {
          "output_type": "stream",
          "name": "stdout",
          "text": [
            "At time 11 seconds, the temperature is 182.10℃.\n"
          ]
        }
      ],
      "source": [
        "# Hardcoding Variables\n",
        "a = 1.6\n",
        "b = -3.5\n",
        "c = 27.0\n",
        "time = 11\n",
        "\n",
        "temperature = a * (time ** 2) + b * time + c\n",
        "print(f\"At time {time} seconds, the temperature is {temperature:.2f}℃.\")\n"
      ]
    },
    {
      "cell_type": "code",
      "source": [
        "# Accept coefficients from the user\n",
        "a = float(input(\"Enter the coefficient 'a' (for time^2): \"))\n",
        "b = float(input(\"Enter the coefficient 'b' (for time): \"))\n",
        "c = float(input(\"Enter the constant 'c': \"))\n",
        "\n",
        "time = float(input(\"Enter the time value (seconds): \"))\n",
        "\n",
        "temperature = a * (time ** 2) + b * time + c\n",
        "print(f\"At time {time} seconds, the temperature is {temperature:.2f}℃.\")\n"
      ],
      "metadata": {
        "colab": {
          "base_uri": "https://localhost:8080/"
        },
        "id": "gNH-cLYR3azK",
        "outputId": "35cfa3da-6fb3-4253-c2ef-f4922624ec5a"
      },
      "execution_count": 7,
      "outputs": [
        {
          "output_type": "stream",
          "name": "stdout",
          "text": [
            "Enter the coefficient 'a' (for time^2): 4\n",
            "Enter the coefficient 'b' (for time): 14\n",
            "Enter the constant 'c': 6\n",
            "Enter the time value (seconds): 30\n",
            "At time 30.0 seconds, the temperature is 4026.00℃.\n"
          ]
        }
      ]
    },
    {
      "cell_type": "code",
      "source": [
        "# Read variables from a file\n",
        "def read_variables_from_file(filename):\n",
        "    variables = {}\n",
        "    with open(filename, 'r') as file:\n",
        "        for line in file:\n",
        "            # Split the line into a key and value\n",
        "            key, value = line.strip().split('=')\n",
        "            variables[key] = float(value)  # Convert value to float\n",
        "    return variables\n",
        "\n",
        "filename = 'variable.txt'\n",
        "\n",
        "# Read variables from the file\n",
        "variables = read_variables_from_file(filename)\n",
        "\n",
        "# Assign variables\n",
        "a = variables['a']\n",
        "b = variables['b']\n",
        "c = variables['c']\n",
        "time = variables['time']\n",
        "\n",
        "# Calculate temperature\n",
        "temperature = a * (time ** 2) + b * time + c\n",
        "\n",
        "# Print the result\n",
        "print(f\"At time {time} seconds, the temperature is {temperature:.2f}℃.\")\n"
      ],
      "metadata": {
        "colab": {
          "base_uri": "https://localhost:8080/"
        },
        "id": "6H7sNNzz4_1A",
        "outputId": "6472082d-7cef-45cb-bea9-b7443c1c56dd"
      },
      "execution_count": 8,
      "outputs": [
        {
          "output_type": "stream",
          "name": "stdout",
          "text": [
            "At time 11.0 seconds, the temperature is 329.80℃.\n"
          ]
        }
      ]
    },
    {
      "cell_type": "code",
      "source": [
        "# Function to read a single set of coefficients from a file\n",
        "def read_coefficients_from_file(filename):\n",
        "    coefficients = {}\n",
        "    with open(filename, 'r') as file:\n",
        "        for line in file:\n",
        "            # Split each line into a key and value\n",
        "            key, value = line.strip().split('=')\n",
        "            coefficients[key] = float(value)  # Convert the value to a float\n",
        "    return coefficients\n",
        "\n",
        "filename = 'coefficients.txt'\n",
        "\n",
        "coefficients = read_coefficients_from_file(filename)\n",
        "\n",
        "a = coefficients['a']\n",
        "b = coefficients['b']\n",
        "c = coefficients['c']\n",
        "time = coefficients['time']\n",
        "\n",
        "temperature = a * (time ** 2) + b * time + c\n",
        "\n",
        "print(f\"At time {time} seconds, the temperature is {temperature:.2f}℃.\")\n"
      ],
      "metadata": {
        "colab": {
          "base_uri": "https://localhost:8080/"
        },
        "id": "JK672-Zr7W3Q",
        "outputId": "db2c96be-7893-4ec0-b7bf-7d742d72d384"
      },
      "execution_count": 9,
      "outputs": [
        {
          "output_type": "stream",
          "name": "stdout",
          "text": [
            "At time 12.0 seconds, the temperature is 328.40℃.\n"
          ]
        }
      ]
    },
    {
      "cell_type": "code",
      "source": [
        "# Function to process multiple sets of inputs from a file\n",
        "def process_multiple_inputs(filename):\n",
        "    try:\n",
        "        with open(filename, 'r') as file:\n",
        "            print(\"Processing multiple inputs of inputs...\\n\")\n",
        "            for line_num, line in enumerate(file, start=1):\n",
        "                try:\n",
        "                    coefficients = {}\n",
        "                    for item in line.strip().split(','):\n",
        "                        key, value = item.strip().split('=')\n",
        "                        coefficients[key.strip()] = float(value.strip())\n",
        "\n",
        "                    a = coefficients['a']\n",
        "                    b = coefficients['b']\n",
        "                    c = coefficients['c']\n",
        "                    time = coefficients['time']\n",
        "\n",
        "                    temperature = a * (time ** 2) + b * time + c\n",
        "\n",
        "                    print(f\"Set {line_num}: At time {time} seconds, the temperature is {temperature:.2f}℃.\")\n",
        "                except Exception as e:\n",
        "                    print(f\"Error processing line {line_num}: {line.strip()} - {e}\")\n",
        "    except FileNotFoundError:\n",
        "        print(f\"Error: File '{filename}' not found.\")\n",
        "    except Exception as e:\n",
        "        print(f\"An unexpected error occurred: {e}\")\n",
        "\n",
        "filename = 'multiple_inputs.txt'\n",
        "process_multiple_sets(filename)\n"
      ],
      "metadata": {
        "colab": {
          "base_uri": "https://localhost:8080/"
        },
        "id": "64s17mRs9ME0",
        "outputId": "a5caa030-353e-41bf-eaa0-4f380e832e57"
      },
      "execution_count": 11,
      "outputs": [
        {
          "output_type": "stream",
          "name": "stdout",
          "text": [
            "Processing multiple sets of inputs...\n",
            "\n",
            "Set 1: At time 11.0 seconds, the temperature is 281.60℃.\n",
            "Set 2: At time 6.0 seconds, the temperature is 187.00℃.\n",
            "Set 3: At time 9.0 seconds, the temperature is 285.20℃.\n"
          ]
        }
      ]
    }
  ]
}